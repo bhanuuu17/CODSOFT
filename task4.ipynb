{
 "cells": [
  {
   "cell_type": "code",
   "execution_count": 1,
   "id": "54faf678",
   "metadata": {},
   "outputs": [
    {
     "name": "stdout",
     "output_type": "stream",
     "text": [
      "   Movie1  Movie2  Movie3  Movie4  Movie5\n",
      "0       5       4       2       1       3\n",
      "1       4       0       0       1       4\n",
      "2       0       0       0       5       4\n",
      "3       2       3       5       4       2\n",
      "4       1       4       4       0       5\n"
     ]
    }
   ],
   "source": [
    "import pandas as pd\n",
    "\n",
    "# Sample data (user-item matrix: movies vs user ratings)\n",
    "data = {\n",
    "    'Movie1': [5, 4, 0, 2, 1],\n",
    "    'Movie2': [4, 0, 0, 3, 4],\n",
    "    'Movie3': [2, 0, 0, 5, 4],\n",
    "    'Movie4': [1, 1, 5, 4, 0],\n",
    "    'Movie5': [3, 4, 4, 2, 5]\n",
    "}\n",
    "\n",
    "# Create a DataFrame (users are rows, movies are columns)\n",
    "df = pd.DataFrame(data)\n",
    "\n",
    "# Print the DataFrame to see the ratings matrix\n",
    "print(df)\n"
   ]
  },
  {
   "cell_type": "code",
   "execution_count": 2,
   "id": "89efba2a",
   "metadata": {},
   "outputs": [
    {
     "name": "stdout",
     "output_type": "stream",
     "text": [
      "          Movie1    Movie2    Movie3    Movie4    Movie5\n",
      "Movie1  1.000000  0.690797  0.527504  0.382240  0.704907\n",
      "Movie2  0.690797  1.000000  0.907959  0.381060  0.709321\n",
      "Movie3  0.527504  0.907959  1.000000  0.500129  0.641427\n",
      "Movie4  0.382240  0.381060  0.500129  1.000000  0.637947\n",
      "Movie5  0.704907  0.709321  0.641427  0.637947  1.000000\n"
     ]
    }
   ],
   "source": [
    "from sklearn.metrics.pairwise import cosine_similarity\n",
    "\n",
    "# Transpose the DataFrame (movies as rows and users as columns)\n",
    "movie_ratings_transposed = df.T\n",
    "\n",
    "# Calculate cosine similarity between movies (columns in the transposed matrix)\n",
    "cosine_sim = cosine_similarity(movie_ratings_transposed)\n",
    "\n",
    "# Convert to DataFrame for easier interpretation\n",
    "cosine_sim_df = pd.DataFrame(cosine_sim, index=df.columns, columns=df.columns)\n",
    "\n",
    "# Print cosine similarity matrix\n",
    "print(cosine_sim_df)\n"
   ]
  },
  {
   "cell_type": "code",
   "execution_count": 3,
   "id": "59c4e8e8",
   "metadata": {},
   "outputs": [
    {
     "name": "stdout",
     "output_type": "stream",
     "text": [
      "Recommended Movies for 'Movie1':\n",
      "Movie5    0.704907\n",
      "Movie2    0.690797\n",
      "Movie3    0.527504\n",
      "Name: Movie1, dtype: float64\n"
     ]
    }
   ],
   "source": [
    "def recommend_movies(movie_name, top_n=3):\n",
    "    # Get similar movies by sorting the similarity values in descending order\n",
    "    similar_scores = cosine_sim_df[movie_name].sort_values(ascending=False)\n",
    "    \n",
    "    # Remove the movie itself from the list (since it’s the most similar to itself)\n",
    "    similar_scores = similar_scores.drop(movie_name)\n",
    "    \n",
    "    # Get the top N similar movies\n",
    "    return similar_scores.head(top_n)\n",
    "\n",
    "# Example: Recommend movies similar to 'Movie1'\n",
    "recommended_movies = recommend_movies('Movie1', top_n=3)\n",
    "print(\"Recommended Movies for 'Movie1':\")\n",
    "print(recommended_movies)\n"
   ]
  },
  {
   "cell_type": "code",
   "execution_count": 4,
   "id": "aaae44af",
   "metadata": {},
   "outputs": [
    {
     "name": "stdout",
     "output_type": "stream",
     "text": [
      "All Recommendations:\n",
      "Recommendations for Movie2:\n",
      "Movie3    0.907959\n",
      "Movie5    0.709321\n",
      "Movie1    0.690797\n",
      "Name: Movie2, dtype: float64\n",
      "Recommendations for Movie3:\n",
      "Movie2    0.907959\n",
      "Movie5    0.641427\n",
      "Movie1    0.527504\n",
      "Name: Movie3, dtype: float64\n"
     ]
    }
   ],
   "source": [
    "liked_movies = ['Movie2', 'Movie3']\n",
    "\n",
    "# Collect recommendations for each liked movie\n",
    "all_recommendations = {}\n",
    "for movie in liked_movies:\n",
    "    all_recommendations[movie] = recommend_movies(movie, top_n=3)\n",
    "\n",
    "# Print recommendations for all liked movies\n",
    "print(\"All Recommendations:\")\n",
    "for movie, recommendations in all_recommendations.items():\n",
    "    print(f\"Recommendations for {movie}:\")\n",
    "    print(recommendations)\n"
   ]
  },
  {
   "cell_type": "code",
   "execution_count": null,
   "id": "21db92f0",
   "metadata": {},
   "outputs": [],
   "source": []
  },
  {
   "cell_type": "code",
   "execution_count": null,
   "id": "017f0b76",
   "metadata": {},
   "outputs": [],
   "source": []
  }
 ],
 "metadata": {
  "kernelspec": {
   "display_name": "Python 3 (ipykernel)",
   "language": "python",
   "name": "python3"
  },
  "language_info": {
   "codemirror_mode": {
    "name": "ipython",
    "version": 3
   },
   "file_extension": ".py",
   "mimetype": "text/x-python",
   "name": "python",
   "nbconvert_exporter": "python",
   "pygments_lexer": "ipython3",
   "version": "3.11.3"
  }
 },
 "nbformat": 4,
 "nbformat_minor": 5
}
