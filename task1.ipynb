{
 "cells": [
  {
   "cell_type": "code",
   "execution_count": null,
   "id": "e20fc1d4",
   "metadata": {},
   "outputs": [
    {
     "name": "stdout",
     "output_type": "stream",
     "text": [
      "Hello! I'm a simple chatbot. Type 'bye' to exit.\n",
      "You: hello\n",
      "Chatbot: Hello! How can I help you today?\n",
      "You: how are you\n",
      "Chatbot: I'm just a bot, but I'm doing well! How about you?\n",
      "You: your name\n",
      "Chatbot: I'm a simple chatbot created to assist you!\n"
     ]
    }
   ],
   "source": [
    "def chatbot():\n",
    "    print(\"Hello! I'm a simple chatbot. Type 'bye' to exit.\")\n",
    "    \n",
    "    while True:\n",
    "        user_input = input(\"You: \").lower()\n",
    "        \n",
    "        if user_input in [\"bye\", \"exit\", \"quit\"]:\n",
    "            print(\"Chatbot: Goodbye! Have a nice day!\")\n",
    "            break\n",
    "        elif \"hello\" in user_input or \"hi\" in user_input:\n",
    "            print(\"Chatbot: Hello! How can I help you today?\")\n",
    "        elif \"how are you\" in user_input:\n",
    "            print(\"Chatbot: I'm just a bot, but I'm doing well! How about you?\")\n",
    "        elif \"your name\" in user_input:\n",
    "            print(\"Chatbot: I'm a simple chatbot created to assist you!\")\n",
    "        elif \"weather\" in user_input:\n",
    "            print(\"Chatbot: I'm sorry, I can't check the weather right now.\")\n",
    "        elif \"time\" in user_input:\n",
    "            print(\"Chatbot: I'm not equipped with a clock, but you can check your device!\")\n",
    "        else:\n",
    "            print(\"Chatbot: I'm not sure how to respond to that. Can you ask something else?\")\n",
    "\n",
    "if __name__ == \"__main__\":\n",
    "    chatbot()"
   ]
  },
  {
   "cell_type": "code",
   "execution_count": null,
   "id": "03c5e9de",
   "metadata": {},
   "outputs": [],
   "source": []
  }
 ],
 "metadata": {
  "kernelspec": {
   "display_name": "Python 3 (ipykernel)",
   "language": "python",
   "name": "python3"
  },
  "language_info": {
   "codemirror_mode": {
    "name": "ipython",
    "version": 3
   },
   "file_extension": ".py",
   "mimetype": "text/x-python",
   "name": "python",
   "nbconvert_exporter": "python",
   "pygments_lexer": "ipython3",
   "version": "3.11.3"
  }
 },
 "nbformat": 4,
 "nbformat_minor": 5
}
